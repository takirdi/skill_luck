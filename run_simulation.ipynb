{
 "cells": [
  {
   "cell_type": "markdown",
   "id": "12b850f9",
   "metadata": {},
   "source": [
    "## Running the Luck vs Skill Simulation in Google Colab\n",
    "\n",
    "Follow the steps below to clone the repository, install dependencies, and run the simulation script directly in Colab."
   ]
  },
  {
   "cell_type": "code",
   "execution_count": null,
   "id": "d2e4b005",
   "metadata": {
    "vscode": {
     "languageId": "plaintext"
    }
   },
   "outputs": [],
   "source": [
    "# This cell runs in Google Colab\n",
    "\n",
    "# Step 1: Clone the repo (GitHub)\n",
    "!git clone https://github.com/takirdi/skill_luck.git\n",
    "%cd skill_luck\n",
    "\n",
    "# Step 2: Install dependencies\n",
    "!pip install -r requirements.txt\n",
    "\n",
    "# Step 3: Run the simulation\n",
    "!python abm_luck_vs_skill.py\n"
   ]
  }
 ],
 "metadata": {
  "language_info": {
   "name": "python"
  }
 },
 "nbformat": 4,
 "nbformat_minor": 5
}
